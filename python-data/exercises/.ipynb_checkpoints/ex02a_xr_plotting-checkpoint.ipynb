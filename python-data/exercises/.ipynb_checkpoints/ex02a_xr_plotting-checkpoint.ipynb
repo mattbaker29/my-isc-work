{
 "cells": [
  {
   "cell_type": "markdown",
   "id": "38e495fd-dc7a-4e98-a2ab-d7b28560db48",
   "metadata": {
    "editable": true,
    "slideshow": {
     "slide_type": ""
    },
    "tags": []
   },
   "source": [
    "# Exercise 2a: Plotting"
   ]
  },
  {
   "cell_type": "markdown",
   "id": "d991cb4d-6063-4e30-9c7d-c9bc1d6d1857",
   "metadata": {},
   "source": [
    "## Aim: Learn to create plots with the inbuilt `.plot()` function"
   ]
  },
  {
   "cell_type": "markdown",
   "id": "bdddad9f-f9c1-4765-b79b-7f7968772894",
   "metadata": {},
   "source": [
    "Find the teaching resources here: https://tutorial.xarray.dev/fundamentals/04.1_basic_plotting.html"
   ]
  },
  {
   "cell_type": "markdown",
   "id": "c0834ce1-ed90-4963-adb1-838bef5233c5",
   "metadata": {
    "editable": true,
    "slideshow": {
     "slide_type": ""
    },
    "tags": []
   },
   "source": [
    "### Issues Covered: \n",
    "- Creating and customising plots using the inbuilt xarray `.plot()` function\n",
    "- Creating a time-series using `.sel()` and `.isel()` and plotting these."
   ]
  },
  {
   "cell_type": "markdown",
   "id": "f1f5a3da-837a-4aec-9562-3df9f416cb23",
   "metadata": {},
   "source": [
    "## 1. Plotting"
   ]
  },
  {
   "cell_type": "markdown",
   "id": "dc7d1b36-cc80-44a4-9adf-5f02901b28f6",
   "metadata": {
    "editable": true,
    "slideshow": {
     "slide_type": ""
    },
    "tags": []
   },
   "source": [
    "Q1. Import the `'../data/xbhubo.pgc0apr.nc'` dataset and create the temperature data array as in the last lesson."
   ]
  },
  {
   "cell_type": "code",
   "execution_count": 7,
   "id": "e129c00a-5a55-47a1-8df1-5e1ce8b28c53",
   "metadata": {
    "editable": true,
    "slideshow": {
     "slide_type": ""
    },
    "tags": [
     "clear_answer_cell"
    ]
   },
   "outputs": [
    {
     "data": {
      "text/html": [
       "<div><svg style=\"position: absolute; width: 0; height: 0; overflow: hidden\">\n",
       "<defs>\n",
       "<symbol id=\"icon-database\" viewBox=\"0 0 32 32\">\n",
       "<path d=\"M16 0c-8.837 0-16 2.239-16 5v4c0 2.761 7.163 5 16 5s16-2.239 16-5v-4c0-2.761-7.163-5-16-5z\"></path>\n",
       "<path d=\"M16 17c-8.837 0-16-2.239-16-5v6c0 2.761 7.163 5 16 5s16-2.239 16-5v-6c0 2.761-7.163 5-16 5z\"></path>\n",
       "<path d=\"M16 26c-8.837 0-16-2.239-16-5v6c0 2.761 7.163 5 16 5s16-2.239 16-5v-6c0 2.761-7.163 5-16 5z\"></path>\n",
       "</symbol>\n",
       "<symbol id=\"icon-file-text2\" viewBox=\"0 0 32 32\">\n",
       "<path d=\"M28.681 7.159c-0.694-0.947-1.662-2.053-2.724-3.116s-2.169-2.030-3.116-2.724c-1.612-1.182-2.393-1.319-2.841-1.319h-15.5c-1.378 0-2.5 1.121-2.5 2.5v27c0 1.378 1.122 2.5 2.5 2.5h23c1.378 0 2.5-1.122 2.5-2.5v-19.5c0-0.448-0.137-1.23-1.319-2.841zM24.543 5.457c0.959 0.959 1.712 1.825 2.268 2.543h-4.811v-4.811c0.718 0.556 1.584 1.309 2.543 2.268zM28 29.5c0 0.271-0.229 0.5-0.5 0.5h-23c-0.271 0-0.5-0.229-0.5-0.5v-27c0-0.271 0.229-0.5 0.5-0.5 0 0 15.499-0 15.5 0v7c0 0.552 0.448 1 1 1h7v19.5z\"></path>\n",
       "<path d=\"M23 26h-14c-0.552 0-1-0.448-1-1s0.448-1 1-1h14c0.552 0 1 0.448 1 1s-0.448 1-1 1z\"></path>\n",
       "<path d=\"M23 22h-14c-0.552 0-1-0.448-1-1s0.448-1 1-1h14c0.552 0 1 0.448 1 1s-0.448 1-1 1z\"></path>\n",
       "<path d=\"M23 18h-14c-0.552 0-1-0.448-1-1s0.448-1 1-1h14c0.552 0 1 0.448 1 1s-0.448 1-1 1z\"></path>\n",
       "</symbol>\n",
       "</defs>\n",
       "</svg>\n",
       "<style>/* CSS stylesheet for displaying xarray objects in jupyterlab.\n",
       " *\n",
       " */\n",
       "\n",
       ":root {\n",
       "  --xr-font-color0: var(--jp-content-font-color0, rgba(0, 0, 0, 1));\n",
       "  --xr-font-color2: var(--jp-content-font-color2, rgba(0, 0, 0, 0.54));\n",
       "  --xr-font-color3: var(--jp-content-font-color3, rgba(0, 0, 0, 0.38));\n",
       "  --xr-border-color: var(--jp-border-color2, #e0e0e0);\n",
       "  --xr-disabled-color: var(--jp-layout-color3, #bdbdbd);\n",
       "  --xr-background-color: var(--jp-layout-color0, white);\n",
       "  --xr-background-color-row-even: var(--jp-layout-color1, white);\n",
       "  --xr-background-color-row-odd: var(--jp-layout-color2, #eeeeee);\n",
       "}\n",
       "\n",
       "html[theme=dark],\n",
       "html[data-theme=dark],\n",
       "body[data-theme=dark],\n",
       "body.vscode-dark {\n",
       "  --xr-font-color0: rgba(255, 255, 255, 1);\n",
       "  --xr-font-color2: rgba(255, 255, 255, 0.54);\n",
       "  --xr-font-color3: rgba(255, 255, 255, 0.38);\n",
       "  --xr-border-color: #1F1F1F;\n",
       "  --xr-disabled-color: #515151;\n",
       "  --xr-background-color: #111111;\n",
       "  --xr-background-color-row-even: #111111;\n",
       "  --xr-background-color-row-odd: #313131;\n",
       "}\n",
       "\n",
       ".xr-wrap {\n",
       "  display: block !important;\n",
       "  min-width: 300px;\n",
       "  max-width: 700px;\n",
       "}\n",
       "\n",
       ".xr-text-repr-fallback {\n",
       "  /* fallback to plain text repr when CSS is not injected (untrusted notebook) */\n",
       "  display: none;\n",
       "}\n",
       "\n",
       ".xr-header {\n",
       "  padding-top: 6px;\n",
       "  padding-bottom: 6px;\n",
       "  margin-bottom: 4px;\n",
       "  border-bottom: solid 1px var(--xr-border-color);\n",
       "}\n",
       "\n",
       ".xr-header > div,\n",
       ".xr-header > ul {\n",
       "  display: inline;\n",
       "  margin-top: 0;\n",
       "  margin-bottom: 0;\n",
       "}\n",
       "\n",
       ".xr-obj-type,\n",
       ".xr-array-name {\n",
       "  margin-left: 2px;\n",
       "  margin-right: 10px;\n",
       "}\n",
       "\n",
       ".xr-obj-type {\n",
       "  color: var(--xr-font-color2);\n",
       "}\n",
       "\n",
       ".xr-sections {\n",
       "  padding-left: 0 !important;\n",
       "  display: grid;\n",
       "  grid-template-columns: 150px auto auto 1fr 20px 20px;\n",
       "}\n",
       "\n",
       ".xr-section-item {\n",
       "  display: contents;\n",
       "}\n",
       "\n",
       ".xr-section-item input {\n",
       "  display: none;\n",
       "}\n",
       "\n",
       ".xr-section-item input + label {\n",
       "  color: var(--xr-disabled-color);\n",
       "}\n",
       "\n",
       ".xr-section-item input:enabled + label {\n",
       "  cursor: pointer;\n",
       "  color: var(--xr-font-color2);\n",
       "}\n",
       "\n",
       ".xr-section-item input:enabled + label:hover {\n",
       "  color: var(--xr-font-color0);\n",
       "}\n",
       "\n",
       ".xr-section-summary {\n",
       "  grid-column: 1;\n",
       "  color: var(--xr-font-color2);\n",
       "  font-weight: 500;\n",
       "}\n",
       "\n",
       ".xr-section-summary > span {\n",
       "  display: inline-block;\n",
       "  padding-left: 0.5em;\n",
       "}\n",
       "\n",
       ".xr-section-summary-in:disabled + label {\n",
       "  color: var(--xr-font-color2);\n",
       "}\n",
       "\n",
       ".xr-section-summary-in + label:before {\n",
       "  display: inline-block;\n",
       "  content: '►';\n",
       "  font-size: 11px;\n",
       "  width: 15px;\n",
       "  text-align: center;\n",
       "}\n",
       "\n",
       ".xr-section-summary-in:disabled + label:before {\n",
       "  color: var(--xr-disabled-color);\n",
       "}\n",
       "\n",
       ".xr-section-summary-in:checked + label:before {\n",
       "  content: '▼';\n",
       "}\n",
       "\n",
       ".xr-section-summary-in:checked + label > span {\n",
       "  display: none;\n",
       "}\n",
       "\n",
       ".xr-section-summary,\n",
       ".xr-section-inline-details {\n",
       "  padding-top: 4px;\n",
       "  padding-bottom: 4px;\n",
       "}\n",
       "\n",
       ".xr-section-inline-details {\n",
       "  grid-column: 2 / -1;\n",
       "}\n",
       "\n",
       ".xr-section-details {\n",
       "  display: none;\n",
       "  grid-column: 1 / -1;\n",
       "  margin-bottom: 5px;\n",
       "}\n",
       "\n",
       ".xr-section-summary-in:checked ~ .xr-section-details {\n",
       "  display: contents;\n",
       "}\n",
       "\n",
       ".xr-array-wrap {\n",
       "  grid-column: 1 / -1;\n",
       "  display: grid;\n",
       "  grid-template-columns: 20px auto;\n",
       "}\n",
       "\n",
       ".xr-array-wrap > label {\n",
       "  grid-column: 1;\n",
       "  vertical-align: top;\n",
       "}\n",
       "\n",
       ".xr-preview {\n",
       "  color: var(--xr-font-color3);\n",
       "}\n",
       "\n",
       ".xr-array-preview,\n",
       ".xr-array-data {\n",
       "  padding: 0 5px !important;\n",
       "  grid-column: 2;\n",
       "}\n",
       "\n",
       ".xr-array-data,\n",
       ".xr-array-in:checked ~ .xr-array-preview {\n",
       "  display: none;\n",
       "}\n",
       "\n",
       ".xr-array-in:checked ~ .xr-array-data,\n",
       ".xr-array-preview {\n",
       "  display: inline-block;\n",
       "}\n",
       "\n",
       ".xr-dim-list {\n",
       "  display: inline-block !important;\n",
       "  list-style: none;\n",
       "  padding: 0 !important;\n",
       "  margin: 0;\n",
       "}\n",
       "\n",
       ".xr-dim-list li {\n",
       "  display: inline-block;\n",
       "  padding: 0;\n",
       "  margin: 0;\n",
       "}\n",
       "\n",
       ".xr-dim-list:before {\n",
       "  content: '(';\n",
       "}\n",
       "\n",
       ".xr-dim-list:after {\n",
       "  content: ')';\n",
       "}\n",
       "\n",
       ".xr-dim-list li:not(:last-child):after {\n",
       "  content: ',';\n",
       "  padding-right: 5px;\n",
       "}\n",
       "\n",
       ".xr-has-index {\n",
       "  font-weight: bold;\n",
       "}\n",
       "\n",
       ".xr-var-list,\n",
       ".xr-var-item {\n",
       "  display: contents;\n",
       "}\n",
       "\n",
       ".xr-var-item > div,\n",
       ".xr-var-item label,\n",
       ".xr-var-item > .xr-var-name span {\n",
       "  background-color: var(--xr-background-color-row-even);\n",
       "  margin-bottom: 0;\n",
       "}\n",
       "\n",
       ".xr-var-item > .xr-var-name:hover span {\n",
       "  padding-right: 5px;\n",
       "}\n",
       "\n",
       ".xr-var-list > li:nth-child(odd) > div,\n",
       ".xr-var-list > li:nth-child(odd) > label,\n",
       ".xr-var-list > li:nth-child(odd) > .xr-var-name span {\n",
       "  background-color: var(--xr-background-color-row-odd);\n",
       "}\n",
       "\n",
       ".xr-var-name {\n",
       "  grid-column: 1;\n",
       "}\n",
       "\n",
       ".xr-var-dims {\n",
       "  grid-column: 2;\n",
       "}\n",
       "\n",
       ".xr-var-dtype {\n",
       "  grid-column: 3;\n",
       "  text-align: right;\n",
       "  color: var(--xr-font-color2);\n",
       "}\n",
       "\n",
       ".xr-var-preview {\n",
       "  grid-column: 4;\n",
       "}\n",
       "\n",
       ".xr-index-preview {\n",
       "  grid-column: 2 / 5;\n",
       "  color: var(--xr-font-color2);\n",
       "}\n",
       "\n",
       ".xr-var-name,\n",
       ".xr-var-dims,\n",
       ".xr-var-dtype,\n",
       ".xr-preview,\n",
       ".xr-attrs dt {\n",
       "  white-space: nowrap;\n",
       "  overflow: hidden;\n",
       "  text-overflow: ellipsis;\n",
       "  padding-right: 10px;\n",
       "}\n",
       "\n",
       ".xr-var-name:hover,\n",
       ".xr-var-dims:hover,\n",
       ".xr-var-dtype:hover,\n",
       ".xr-attrs dt:hover {\n",
       "  overflow: visible;\n",
       "  width: auto;\n",
       "  z-index: 1;\n",
       "}\n",
       "\n",
       ".xr-var-attrs,\n",
       ".xr-var-data,\n",
       ".xr-index-data {\n",
       "  display: none;\n",
       "  background-color: var(--xr-background-color) !important;\n",
       "  padding-bottom: 5px !important;\n",
       "}\n",
       "\n",
       ".xr-var-attrs-in:checked ~ .xr-var-attrs,\n",
       ".xr-var-data-in:checked ~ .xr-var-data,\n",
       ".xr-index-data-in:checked ~ .xr-index-data {\n",
       "  display: block;\n",
       "}\n",
       "\n",
       ".xr-var-data > table {\n",
       "  float: right;\n",
       "}\n",
       "\n",
       ".xr-var-name span,\n",
       ".xr-var-data,\n",
       ".xr-index-name div,\n",
       ".xr-index-data,\n",
       ".xr-attrs {\n",
       "  padding-left: 25px !important;\n",
       "}\n",
       "\n",
       ".xr-attrs,\n",
       ".xr-var-attrs,\n",
       ".xr-var-data,\n",
       ".xr-index-data {\n",
       "  grid-column: 1 / -1;\n",
       "}\n",
       "\n",
       "dl.xr-attrs {\n",
       "  padding: 0;\n",
       "  margin: 0;\n",
       "  display: grid;\n",
       "  grid-template-columns: 125px auto;\n",
       "}\n",
       "\n",
       ".xr-attrs dt,\n",
       ".xr-attrs dd {\n",
       "  padding: 0;\n",
       "  margin: 0;\n",
       "  float: left;\n",
       "  padding-right: 10px;\n",
       "  width: auto;\n",
       "}\n",
       "\n",
       ".xr-attrs dt {\n",
       "  font-weight: normal;\n",
       "  grid-column: 1;\n",
       "}\n",
       "\n",
       ".xr-attrs dt:hover span {\n",
       "  display: inline-block;\n",
       "  background: var(--xr-background-color);\n",
       "  padding-right: 10px;\n",
       "}\n",
       "\n",
       ".xr-attrs dd {\n",
       "  grid-column: 2;\n",
       "  white-space: pre-wrap;\n",
       "  word-break: break-all;\n",
       "}\n",
       "\n",
       ".xr-icon-database,\n",
       ".xr-icon-file-text2,\n",
       ".xr-no-icon {\n",
       "  display: inline-block;\n",
       "  vertical-align: middle;\n",
       "  width: 1em;\n",
       "  height: 1.5em !important;\n",
       "  stroke-width: 0;\n",
       "  stroke: currentColor;\n",
       "  fill: currentColor;\n",
       "}\n",
       "</style><pre class='xr-text-repr-fallback'>&lt;xarray.Dataset&gt; Size: 13MB\n",
       "Dimensions:      (longitude: 288, latitude: 144, depth: 20, t: 1,\n",
       "                  longitude_1: 288, latitude_1: 143)\n",
       "Coordinates:\n",
       "  * longitude    (longitude) float32 1kB 0.0 1.25 2.5 3.75 ... 356.2 357.5 358.8\n",
       "  * latitude     (latitude) float32 576B -89.38 -88.12 -86.88 ... 88.12 89.38\n",
       "  * depth        (depth) float32 80B 5.0 15.0 25.0 ... 4.577e+03 5.192e+03\n",
       "  * t            (t) object 8B 1920-04-16 00:00:00\n",
       "  * longitude_1  (longitude_1) float32 1kB 0.625 1.875 3.125 ... 358.1 359.4\n",
       "  * latitude_1   (latitude_1) float32 572B -88.75 -87.5 -86.25 ... 87.5 88.75\n",
       "Data variables:\n",
       "    temp         (t, depth, latitude, longitude) float32 3MB ...\n",
       "    salinity     (t, depth, latitude, longitude) float32 3MB ...\n",
       "    ucurr        (t, depth, latitude_1, longitude_1) float32 3MB ...\n",
       "    vcurr        (t, depth, latitude_1, longitude_1) float32 3MB ...\n",
       "Attributes:\n",
       "    history:      Tue Sep 12 11:49:35 BST 2006 - CONVSH V1.91 16-February-2006\n",
       "    Conventions:  CF-1.0</pre><div class='xr-wrap' style='display:none'><div class='xr-header'><div class='xr-obj-type'>xarray.Dataset</div></div><ul class='xr-sections'><li class='xr-section-item'><input id='section-ed4b0777-7241-4528-aef0-8283296237e3' class='xr-section-summary-in' type='checkbox' disabled ><label for='section-ed4b0777-7241-4528-aef0-8283296237e3' class='xr-section-summary'  title='Expand/collapse section'>Dimensions:</label><div class='xr-section-inline-details'><ul class='xr-dim-list'><li><span class='xr-has-index'>longitude</span>: 288</li><li><span class='xr-has-index'>latitude</span>: 144</li><li><span class='xr-has-index'>depth</span>: 20</li><li><span class='xr-has-index'>t</span>: 1</li><li><span class='xr-has-index'>longitude_1</span>: 288</li><li><span class='xr-has-index'>latitude_1</span>: 143</li></ul></div><div class='xr-section-details'></div></li><li class='xr-section-item'><input id='section-42babcce-7751-41f5-8227-44661e928395' class='xr-section-summary-in' type='checkbox'  checked><label for='section-42babcce-7751-41f5-8227-44661e928395' class='xr-section-summary' >Coordinates: <span>(6)</span></label><div class='xr-section-inline-details'></div><div class='xr-section-details'><ul class='xr-var-list'><li class='xr-var-item'><div class='xr-var-name'><span class='xr-has-index'>longitude</span></div><div class='xr-var-dims'>(longitude)</div><div class='xr-var-dtype'>float32</div><div class='xr-var-preview xr-preview'>0.0 1.25 2.5 ... 356.2 357.5 358.8</div><input id='attrs-4de7dcbf-50ba-4043-bdcc-8326343865b8' class='xr-var-attrs-in' type='checkbox' ><label for='attrs-4de7dcbf-50ba-4043-bdcc-8326343865b8' title='Show/Hide attributes'><svg class='icon xr-icon-file-text2'><use xlink:href='#icon-file-text2'></use></svg></label><input id='data-5be80fa8-2d27-4baa-bc44-28a549038509' class='xr-var-data-in' type='checkbox'><label for='data-5be80fa8-2d27-4baa-bc44-28a549038509' title='Show/Hide data repr'><svg class='icon xr-icon-database'><use xlink:href='#icon-database'></use></svg></label><div class='xr-var-attrs'><dl class='xr-attrs'><dt><span>units :</span></dt><dd>degrees_east</dd><dt><span>point_spacing :</span></dt><dd>even</dd><dt><span>modulo :</span></dt><dd> </dd></dl></div><div class='xr-var-data'><pre>array([  0.  ,   1.25,   2.5 , ..., 356.25, 357.5 , 358.75], dtype=float32)</pre></div></li><li class='xr-var-item'><div class='xr-var-name'><span class='xr-has-index'>latitude</span></div><div class='xr-var-dims'>(latitude)</div><div class='xr-var-dtype'>float32</div><div class='xr-var-preview xr-preview'>-89.38 -88.12 ... 88.12 89.38</div><input id='attrs-8124eb8e-0860-4c16-b3dc-399c74934616' class='xr-var-attrs-in' type='checkbox' ><label for='attrs-8124eb8e-0860-4c16-b3dc-399c74934616' title='Show/Hide attributes'><svg class='icon xr-icon-file-text2'><use xlink:href='#icon-file-text2'></use></svg></label><input id='data-62fa8bb5-8836-4f83-a46a-7f583e368b3a' class='xr-var-data-in' type='checkbox'><label for='data-62fa8bb5-8836-4f83-a46a-7f583e368b3a' title='Show/Hide data repr'><svg class='icon xr-icon-database'><use xlink:href='#icon-database'></use></svg></label><div class='xr-var-attrs'><dl class='xr-attrs'><dt><span>units :</span></dt><dd>degrees_north</dd><dt><span>point_spacing :</span></dt><dd>even</dd></dl></div><div class='xr-var-data'><pre>array([-89.375, -88.125, -86.875, -85.625, -84.375, -83.125, -81.875, -80.625,\n",
       "       -79.375, -78.125, -76.875, -75.625, -74.375, -73.125, -71.875, -70.625,\n",
       "       -69.375, -68.125, -66.875, -65.625, -64.375, -63.125, -61.875, -60.625,\n",
       "       -59.375, -58.125, -56.875, -55.625, -54.375, -53.125, -51.875, -50.625,\n",
       "       -49.375, -48.125, -46.875, -45.625, -44.375, -43.125, -41.875, -40.625,\n",
       "       -39.375, -38.125, -36.875, -35.625, -34.375, -33.125, -31.875, -30.625,\n",
       "       -29.375, -28.125, -26.875, -25.625, -24.375, -23.125, -21.875, -20.625,\n",
       "       -19.375, -18.125, -16.875, -15.625, -14.375, -13.125, -11.875, -10.625,\n",
       "        -9.375,  -8.125,  -6.875,  -5.625,  -4.375,  -3.125,  -1.875,  -0.625,\n",
       "         0.625,   1.875,   3.125,   4.375,   5.625,   6.875,   8.125,   9.375,\n",
       "        10.625,  11.875,  13.125,  14.375,  15.625,  16.875,  18.125,  19.375,\n",
       "        20.625,  21.875,  23.125,  24.375,  25.625,  26.875,  28.125,  29.375,\n",
       "        30.625,  31.875,  33.125,  34.375,  35.625,  36.875,  38.125,  39.375,\n",
       "        40.625,  41.875,  43.125,  44.375,  45.625,  46.875,  48.125,  49.375,\n",
       "        50.625,  51.875,  53.125,  54.375,  55.625,  56.875,  58.125,  59.375,\n",
       "        60.625,  61.875,  63.125,  64.375,  65.625,  66.875,  68.125,  69.375,\n",
       "        70.625,  71.875,  73.125,  74.375,  75.625,  76.875,  78.125,  79.375,\n",
       "        80.625,  81.875,  83.125,  84.375,  85.625,  86.875,  88.125,  89.375],\n",
       "      dtype=float32)</pre></div></li><li class='xr-var-item'><div class='xr-var-name'><span class='xr-has-index'>depth</span></div><div class='xr-var-dims'>(depth)</div><div class='xr-var-dtype'>float32</div><div class='xr-var-preview xr-preview'>5.0 15.0 ... 4.577e+03 5.192e+03</div><input id='attrs-c86945c0-6aa3-4adb-84ad-cf01417b2ca2' class='xr-var-attrs-in' type='checkbox' ><label for='attrs-c86945c0-6aa3-4adb-84ad-cf01417b2ca2' title='Show/Hide attributes'><svg class='icon xr-icon-file-text2'><use xlink:href='#icon-file-text2'></use></svg></label><input id='data-87812349-d478-4001-8c57-c74ad3262502' class='xr-var-data-in' type='checkbox'><label for='data-87812349-d478-4001-8c57-c74ad3262502' title='Show/Hide data repr'><svg class='icon xr-icon-database'><use xlink:href='#icon-database'></use></svg></label><div class='xr-var-attrs'><dl class='xr-attrs'><dt><span>units :</span></dt><dd>m</dd><dt><span>positive :</span></dt><dd>down</dd></dl></div><div class='xr-var-data'><pre>array([5.00000e+00, 1.50000e+01, 2.50000e+01, 3.51000e+01, 4.78500e+01,\n",
       "       6.70000e+01, 9.57500e+01, 1.38900e+02, 2.03700e+02, 3.01000e+02,\n",
       "       4.47050e+02, 6.66300e+02, 9.95550e+02, 1.50085e+03, 2.11615e+03,\n",
       "       2.73140e+03, 3.34665e+03, 3.96190e+03, 4.57715e+03, 5.19245e+03],\n",
       "      dtype=float32)</pre></div></li><li class='xr-var-item'><div class='xr-var-name'><span class='xr-has-index'>t</span></div><div class='xr-var-dims'>(t)</div><div class='xr-var-dtype'>object</div><div class='xr-var-preview xr-preview'>1920-04-16 00:00:00</div><input id='attrs-acde316e-b556-4bf7-888b-9ab43ecb6cdc' class='xr-var-attrs-in' type='checkbox' ><label for='attrs-acde316e-b556-4bf7-888b-9ab43ecb6cdc' title='Show/Hide attributes'><svg class='icon xr-icon-file-text2'><use xlink:href='#icon-file-text2'></use></svg></label><input id='data-99564875-7bb8-4832-b835-6d5b5161fa96' class='xr-var-data-in' type='checkbox'><label for='data-99564875-7bb8-4832-b835-6d5b5161fa96' title='Show/Hide data repr'><svg class='icon xr-icon-database'><use xlink:href='#icon-database'></use></svg></label><div class='xr-var-attrs'><dl class='xr-attrs'><dt><span>time_origin :</span></dt><dd>01-DEC-1899:00:00:00</dd></dl></div><div class='xr-var-data'><pre>array([cftime.Datetime360Day(1920, 4, 16, 0, 0, 0, 0, has_year_zero=True)],\n",
       "      dtype=object)</pre></div></li><li class='xr-var-item'><div class='xr-var-name'><span class='xr-has-index'>longitude_1</span></div><div class='xr-var-dims'>(longitude_1)</div><div class='xr-var-dtype'>float32</div><div class='xr-var-preview xr-preview'>0.625 1.875 3.125 ... 358.1 359.4</div><input id='attrs-69b19ec0-b6e1-41f6-8931-c10379bd0d05' class='xr-var-attrs-in' type='checkbox' ><label for='attrs-69b19ec0-b6e1-41f6-8931-c10379bd0d05' title='Show/Hide attributes'><svg class='icon xr-icon-file-text2'><use xlink:href='#icon-file-text2'></use></svg></label><input id='data-224bf6fe-f001-4ff1-81e4-629504026478' class='xr-var-data-in' type='checkbox'><label for='data-224bf6fe-f001-4ff1-81e4-629504026478' title='Show/Hide data repr'><svg class='icon xr-icon-database'><use xlink:href='#icon-database'></use></svg></label><div class='xr-var-attrs'><dl class='xr-attrs'><dt><span>units :</span></dt><dd>degrees_east</dd><dt><span>point_spacing :</span></dt><dd>even</dd><dt><span>modulo :</span></dt><dd> </dd></dl></div><div class='xr-var-data'><pre>array([  0.625,   1.875,   3.125, ..., 356.875, 358.125, 359.375],\n",
       "      dtype=float32)</pre></div></li><li class='xr-var-item'><div class='xr-var-name'><span class='xr-has-index'>latitude_1</span></div><div class='xr-var-dims'>(latitude_1)</div><div class='xr-var-dtype'>float32</div><div class='xr-var-preview xr-preview'>-88.75 -87.5 -86.25 ... 87.5 88.75</div><input id='attrs-44fe51a7-c42a-43a8-b827-568ce83e0f51' class='xr-var-attrs-in' type='checkbox' ><label for='attrs-44fe51a7-c42a-43a8-b827-568ce83e0f51' title='Show/Hide attributes'><svg class='icon xr-icon-file-text2'><use xlink:href='#icon-file-text2'></use></svg></label><input id='data-dd1f4c54-9d51-4ac1-82cf-cc9a292aa0e4' class='xr-var-data-in' type='checkbox'><label for='data-dd1f4c54-9d51-4ac1-82cf-cc9a292aa0e4' title='Show/Hide data repr'><svg class='icon xr-icon-database'><use xlink:href='#icon-database'></use></svg></label><div class='xr-var-attrs'><dl class='xr-attrs'><dt><span>units :</span></dt><dd>degrees_north</dd><dt><span>point_spacing :</span></dt><dd>even</dd></dl></div><div class='xr-var-data'><pre>array([-88.75, -87.5 , -86.25, -85.  , -83.75, -82.5 , -81.25, -80.  , -78.75,\n",
       "       -77.5 , -76.25, -75.  , -73.75, -72.5 , -71.25, -70.  , -68.75, -67.5 ,\n",
       "       -66.25, -65.  , -63.75, -62.5 , -61.25, -60.  , -58.75, -57.5 , -56.25,\n",
       "       -55.  , -53.75, -52.5 , -51.25, -50.  , -48.75, -47.5 , -46.25, -45.  ,\n",
       "       -43.75, -42.5 , -41.25, -40.  , -38.75, -37.5 , -36.25, -35.  , -33.75,\n",
       "       -32.5 , -31.25, -30.  , -28.75, -27.5 , -26.25, -25.  , -23.75, -22.5 ,\n",
       "       -21.25, -20.  , -18.75, -17.5 , -16.25, -15.  , -13.75, -12.5 , -11.25,\n",
       "       -10.  ,  -8.75,  -7.5 ,  -6.25,  -5.  ,  -3.75,  -2.5 ,  -1.25,   0.  ,\n",
       "         1.25,   2.5 ,   3.75,   5.  ,   6.25,   7.5 ,   8.75,  10.  ,  11.25,\n",
       "        12.5 ,  13.75,  15.  ,  16.25,  17.5 ,  18.75,  20.  ,  21.25,  22.5 ,\n",
       "        23.75,  25.  ,  26.25,  27.5 ,  28.75,  30.  ,  31.25,  32.5 ,  33.75,\n",
       "        35.  ,  36.25,  37.5 ,  38.75,  40.  ,  41.25,  42.5 ,  43.75,  45.  ,\n",
       "        46.25,  47.5 ,  48.75,  50.  ,  51.25,  52.5 ,  53.75,  55.  ,  56.25,\n",
       "        57.5 ,  58.75,  60.  ,  61.25,  62.5 ,  63.75,  65.  ,  66.25,  67.5 ,\n",
       "        68.75,  70.  ,  71.25,  72.5 ,  73.75,  75.  ,  76.25,  77.5 ,  78.75,\n",
       "        80.  ,  81.25,  82.5 ,  83.75,  85.  ,  86.25,  87.5 ,  88.75],\n",
       "      dtype=float32)</pre></div></li></ul></div></li><li class='xr-section-item'><input id='section-eb1d7852-87fe-4052-a991-0936a7375927' class='xr-section-summary-in' type='checkbox'  checked><label for='section-eb1d7852-87fe-4052-a991-0936a7375927' class='xr-section-summary' >Data variables: <span>(4)</span></label><div class='xr-section-inline-details'></div><div class='xr-section-details'><ul class='xr-var-list'><li class='xr-var-item'><div class='xr-var-name'><span>temp</span></div><div class='xr-var-dims'>(t, depth, latitude, longitude)</div><div class='xr-var-dtype'>float32</div><div class='xr-var-preview xr-preview'>...</div><input id='attrs-c6e4fe47-d277-4abd-8d89-a47b39f59002' class='xr-var-attrs-in' type='checkbox' ><label for='attrs-c6e4fe47-d277-4abd-8d89-a47b39f59002' title='Show/Hide attributes'><svg class='icon xr-icon-file-text2'><use xlink:href='#icon-file-text2'></use></svg></label><input id='data-3a1c3586-a34e-4b45-89d3-c4de3b5bbf77' class='xr-var-data-in' type='checkbox'><label for='data-3a1c3586-a34e-4b45-89d3-c4de3b5bbf77' title='Show/Hide data repr'><svg class='icon xr-icon-database'><use xlink:href='#icon-database'></use></svg></label><div class='xr-var-attrs'><dl class='xr-attrs'><dt><span>source :</span></dt><dd>Unified Model Output:</dd><dt><span>name :</span></dt><dd>temp</dd><dt><span>title :</span></dt><dd>POTENTIAL TEMPERATURE (OCEAN)  DEG.C</dd><dt><span>date :</span></dt><dd>01/12/99</dd><dt><span>time :</span></dt><dd>00:00</dd><dt><span>long_name :</span></dt><dd>POTENTIAL TEMPERATURE (OCEAN)  DEG.C</dd><dt><span>units :</span></dt><dd>degC</dd><dt><span>valid_min :</span></dt><dd>-1.7999878</dd><dt><span>valid_max :</span></dt><dd>35.0495</dd></dl></div><div class='xr-var-data'><pre>[829440 values with dtype=float32]</pre></div></li><li class='xr-var-item'><div class='xr-var-name'><span>salinity</span></div><div class='xr-var-dims'>(t, depth, latitude, longitude)</div><div class='xr-var-dtype'>float32</div><div class='xr-var-preview xr-preview'>...</div><input id='attrs-4500840a-6565-4fc9-8116-2632c08fbbb7' class='xr-var-attrs-in' type='checkbox' ><label for='attrs-4500840a-6565-4fc9-8116-2632c08fbbb7' title='Show/Hide attributes'><svg class='icon xr-icon-file-text2'><use xlink:href='#icon-file-text2'></use></svg></label><input id='data-5728bff9-5645-46f2-b81d-59d10ee68a64' class='xr-var-data-in' type='checkbox'><label for='data-5728bff9-5645-46f2-b81d-59d10ee68a64' title='Show/Hide data repr'><svg class='icon xr-icon-database'><use xlink:href='#icon-database'></use></svg></label><div class='xr-var-attrs'><dl class='xr-attrs'><dt><span>source :</span></dt><dd>Unified Model Output:</dd><dt><span>name :</span></dt><dd>salinity</dd><dt><span>title :</span></dt><dd>SALINITY (OCEAN)       (PSU-35)/1000</dd><dt><span>date :</span></dt><dd>01/12/99</dd><dt><span>time :</span></dt><dd>00:00</dd><dt><span>long_name :</span></dt><dd>SALINITY (OCEAN)       (PSU-35)/1000</dd><dt><span>units :</span></dt><dd>(psu-35)/1000</dd><dt><span>valid_min :</span></dt><dd>-0.035</dd><dt><span>valid_max :</span></dt><dd>0.010004565</dd></dl></div><div class='xr-var-data'><pre>[829440 values with dtype=float32]</pre></div></li><li class='xr-var-item'><div class='xr-var-name'><span>ucurr</span></div><div class='xr-var-dims'>(t, depth, latitude_1, longitude_1)</div><div class='xr-var-dtype'>float32</div><div class='xr-var-preview xr-preview'>...</div><input id='attrs-7e57b153-d050-43f1-80d3-04c7c416ee5a' class='xr-var-attrs-in' type='checkbox' ><label for='attrs-7e57b153-d050-43f1-80d3-04c7c416ee5a' title='Show/Hide attributes'><svg class='icon xr-icon-file-text2'><use xlink:href='#icon-file-text2'></use></svg></label><input id='data-49f49e6a-79af-4519-9a9f-4b8e0a486107' class='xr-var-data-in' type='checkbox'><label for='data-49f49e6a-79af-4519-9a9f-4b8e0a486107' title='Show/Hide data repr'><svg class='icon xr-icon-database'><use xlink:href='#icon-database'></use></svg></label><div class='xr-var-attrs'><dl class='xr-attrs'><dt><span>source :</span></dt><dd>Unified Model Output:</dd><dt><span>name :</span></dt><dd>ucurr</dd><dt><span>title :</span></dt><dd>BAROCLINIC U_VELOCITY (OCEAN)   CM/S</dd><dt><span>date :</span></dt><dd>01/12/99</dd><dt><span>time :</span></dt><dd>00:00</dd><dt><span>long_name :</span></dt><dd>BAROCLINIC U_VELOCITY (OCEAN)   CM/S</dd><dt><span>units :</span></dt><dd>cm s-1</dd><dt><span>valid_min :</span></dt><dd>-130.27612</dd><dt><span>valid_max :</span></dt><dd>101.97754</dd></dl></div><div class='xr-var-data'><pre>[823680 values with dtype=float32]</pre></div></li><li class='xr-var-item'><div class='xr-var-name'><span>vcurr</span></div><div class='xr-var-dims'>(t, depth, latitude_1, longitude_1)</div><div class='xr-var-dtype'>float32</div><div class='xr-var-preview xr-preview'>...</div><input id='attrs-a9c8f291-bc89-40db-9f7e-9929e5e9cd58' class='xr-var-attrs-in' type='checkbox' ><label for='attrs-a9c8f291-bc89-40db-9f7e-9929e5e9cd58' title='Show/Hide attributes'><svg class='icon xr-icon-file-text2'><use xlink:href='#icon-file-text2'></use></svg></label><input id='data-9e0335e0-e389-4a48-b2f6-881aea29ffcb' class='xr-var-data-in' type='checkbox'><label for='data-9e0335e0-e389-4a48-b2f6-881aea29ffcb' title='Show/Hide data repr'><svg class='icon xr-icon-database'><use xlink:href='#icon-database'></use></svg></label><div class='xr-var-attrs'><dl class='xr-attrs'><dt><span>source :</span></dt><dd>Unified Model Output:</dd><dt><span>name :</span></dt><dd>vcurr</dd><dt><span>title :</span></dt><dd>BAROCLINIC V_VELOCITY (OCEAN)   CM/S</dd><dt><span>date :</span></dt><dd>01/12/99</dd><dt><span>time :</span></dt><dd>00:00</dd><dt><span>long_name :</span></dt><dd>BAROCLINIC V_VELOCITY (OCEAN)   CM/S</dd><dt><span>units :</span></dt><dd>cm s-1</dd><dt><span>valid_min :</span></dt><dd>-79.18335</dd><dt><span>valid_max :</span></dt><dd>123.761475</dd></dl></div><div class='xr-var-data'><pre>[823680 values with dtype=float32]</pre></div></li></ul></div></li><li class='xr-section-item'><input id='section-d2d59bc3-c016-4440-80d1-2a86d375a971' class='xr-section-summary-in' type='checkbox'  ><label for='section-d2d59bc3-c016-4440-80d1-2a86d375a971' class='xr-section-summary' >Indexes: <span>(6)</span></label><div class='xr-section-inline-details'></div><div class='xr-section-details'><ul class='xr-var-list'><li class='xr-var-item'><div class='xr-index-name'><div>longitude</div></div><div class='xr-index-preview'>PandasIndex</div><div></div><input id='index-73d7e5ad-b2df-471e-af08-654676b3720d' class='xr-index-data-in' type='checkbox'/><label for='index-73d7e5ad-b2df-471e-af08-654676b3720d' title='Show/Hide index repr'><svg class='icon xr-icon-database'><use xlink:href='#icon-database'></use></svg></label><div class='xr-index-data'><pre>PandasIndex(Index([   0.0,   1.25,    2.5,   3.75,    5.0,   6.25,    7.5,   8.75,   10.0,\n",
       "        11.25,\n",
       "       ...\n",
       "        347.5, 348.75,  350.0, 351.25,  352.5, 353.75,  355.0, 356.25,  357.5,\n",
       "       358.75],\n",
       "      dtype=&#x27;float32&#x27;, name=&#x27;longitude&#x27;, length=288))</pre></div></li><li class='xr-var-item'><div class='xr-index-name'><div>latitude</div></div><div class='xr-index-preview'>PandasIndex</div><div></div><input id='index-189a0cc4-7da0-41e4-8454-5135b836959b' class='xr-index-data-in' type='checkbox'/><label for='index-189a0cc4-7da0-41e4-8454-5135b836959b' title='Show/Hide index repr'><svg class='icon xr-icon-database'><use xlink:href='#icon-database'></use></svg></label><div class='xr-index-data'><pre>PandasIndex(Index([-89.375, -88.125, -86.875, -85.625, -84.375, -83.125, -81.875, -80.625,\n",
       "       -79.375, -78.125,\n",
       "       ...\n",
       "        78.125,  79.375,  80.625,  81.875,  83.125,  84.375,  85.625,  86.875,\n",
       "        88.125,  89.375],\n",
       "      dtype=&#x27;float32&#x27;, name=&#x27;latitude&#x27;, length=144))</pre></div></li><li class='xr-var-item'><div class='xr-index-name'><div>depth</div></div><div class='xr-index-preview'>PandasIndex</div><div></div><input id='index-a8de2d7a-36a8-44f9-9e58-79aaad45a95c' class='xr-index-data-in' type='checkbox'/><label for='index-a8de2d7a-36a8-44f9-9e58-79aaad45a95c' title='Show/Hide index repr'><svg class='icon xr-icon-database'><use xlink:href='#icon-database'></use></svg></label><div class='xr-index-data'><pre>PandasIndex(Index([               5.0,               15.0,               25.0,\n",
       "       35.099998474121094, 47.849998474121094,               67.0,\n",
       "                    95.75, 138.89999389648438,  203.6999969482422,\n",
       "                    301.0, 447.04998779296875,  666.2999877929688,\n",
       "        995.5499877929688, 1500.8499755859375,   2116.14990234375,\n",
       "         2731.39990234375,   3346.64990234375,   3961.89990234375,\n",
       "         4577.14990234375,    5192.4501953125],\n",
       "      dtype=&#x27;float32&#x27;, name=&#x27;depth&#x27;))</pre></div></li><li class='xr-var-item'><div class='xr-index-name'><div>t</div></div><div class='xr-index-preview'>PandasIndex</div><div></div><input id='index-2f20770c-1262-4b83-b427-bca173456da0' class='xr-index-data-in' type='checkbox'/><label for='index-2f20770c-1262-4b83-b427-bca173456da0' title='Show/Hide index repr'><svg class='icon xr-icon-database'><use xlink:href='#icon-database'></use></svg></label><div class='xr-index-data'><pre>PandasIndex(CFTimeIndex([1920-04-16 00:00:00],\n",
       "            dtype=&#x27;object&#x27;, length=1, calendar=&#x27;360_day&#x27;, freq=None))</pre></div></li><li class='xr-var-item'><div class='xr-index-name'><div>longitude_1</div></div><div class='xr-index-preview'>PandasIndex</div><div></div><input id='index-51b3e0ae-bd51-437b-bfa1-1ef04425b006' class='xr-index-data-in' type='checkbox'/><label for='index-51b3e0ae-bd51-437b-bfa1-1ef04425b006' title='Show/Hide index repr'><svg class='icon xr-icon-database'><use xlink:href='#icon-database'></use></svg></label><div class='xr-index-data'><pre>PandasIndex(Index([  0.625,   1.875,   3.125,   4.375,   5.625,   6.875,   8.125,   9.375,\n",
       "        10.625,  11.875,\n",
       "       ...\n",
       "       348.125, 349.375, 350.625, 351.875, 353.125, 354.375, 355.625, 356.875,\n",
       "       358.125, 359.375],\n",
       "      dtype=&#x27;float32&#x27;, name=&#x27;longitude_1&#x27;, length=288))</pre></div></li><li class='xr-var-item'><div class='xr-index-name'><div>latitude_1</div></div><div class='xr-index-preview'>PandasIndex</div><div></div><input id='index-6afb3c62-2023-43d1-a65b-a1a50a7fcdda' class='xr-index-data-in' type='checkbox'/><label for='index-6afb3c62-2023-43d1-a65b-a1a50a7fcdda' title='Show/Hide index repr'><svg class='icon xr-icon-database'><use xlink:href='#icon-database'></use></svg></label><div class='xr-index-data'><pre>PandasIndex(Index([-88.75,  -87.5, -86.25,  -85.0, -83.75,  -82.5, -81.25,  -80.0, -78.75,\n",
       "        -77.5,\n",
       "       ...\n",
       "         77.5,  78.75,   80.0,  81.25,   82.5,  83.75,   85.0,  86.25,   87.5,\n",
       "        88.75],\n",
       "      dtype=&#x27;float32&#x27;, name=&#x27;latitude_1&#x27;, length=143))</pre></div></li></ul></div></li><li class='xr-section-item'><input id='section-5ffd267d-42cb-4eb7-b983-3fc7bcc2a223' class='xr-section-summary-in' type='checkbox'  checked><label for='section-5ffd267d-42cb-4eb7-b983-3fc7bcc2a223' class='xr-section-summary' >Attributes: <span>(2)</span></label><div class='xr-section-inline-details'></div><div class='xr-section-details'><dl class='xr-attrs'><dt><span>history :</span></dt><dd>Tue Sep 12 11:49:35 BST 2006 - CONVSH V1.91 16-February-2006</dd><dt><span>Conventions :</span></dt><dd>CF-1.0</dd></dl></div></li></ul></div></div>"
      ],
      "text/plain": [
       "<xarray.Dataset> Size: 13MB\n",
       "Dimensions:      (longitude: 288, latitude: 144, depth: 20, t: 1,\n",
       "                  longitude_1: 288, latitude_1: 143)\n",
       "Coordinates:\n",
       "  * longitude    (longitude) float32 1kB 0.0 1.25 2.5 3.75 ... 356.2 357.5 358.8\n",
       "  * latitude     (latitude) float32 576B -89.38 -88.12 -86.88 ... 88.12 89.38\n",
       "  * depth        (depth) float32 80B 5.0 15.0 25.0 ... 4.577e+03 5.192e+03\n",
       "  * t            (t) object 8B 1920-04-16 00:00:00\n",
       "  * longitude_1  (longitude_1) float32 1kB 0.625 1.875 3.125 ... 358.1 359.4\n",
       "  * latitude_1   (latitude_1) float32 572B -88.75 -87.5 -86.25 ... 87.5 88.75\n",
       "Data variables:\n",
       "    temp         (t, depth, latitude, longitude) float32 3MB ...\n",
       "    salinity     (t, depth, latitude, longitude) float32 3MB ...\n",
       "    ucurr        (t, depth, latitude_1, longitude_1) float32 3MB ...\n",
       "    vcurr        (t, depth, latitude_1, longitude_1) float32 3MB ...\n",
       "Attributes:\n",
       "    history:      Tue Sep 12 11:49:35 BST 2006 - CONVSH V1.91 16-February-2006\n",
       "    Conventions:  CF-1.0"
      ]
     },
     "execution_count": 7,
     "metadata": {},
     "output_type": "execute_result"
    }
   ],
   "source": [
    "import xarray as xr\n",
    "ds = xr.open_dataset(\"../data/xbhubo.pgc0apr.nc\")\n",
    "temperature = ds['temp']\n",
    "ds"
   ]
  },
  {
   "cell_type": "markdown",
   "id": "7d28e98c-52ac-452a-aff5-6ba8c78aa22f",
   "metadata": {
    "editable": true,
    "slideshow": {
     "slide_type": ""
    },
    "tags": []
   },
   "source": [
    "Q2. Try a simple .plot() on your temperature dataarray, to see what xarray does. Why has it done this?"
   ]
  },
  {
   "cell_type": "code",
   "execution_count": 5,
   "id": "bd52476f-5b35-4c46-b242-9fe1da16062c",
   "metadata": {
    "editable": true,
    "slideshow": {
     "slide_type": ""
    },
    "tags": [
     "clear_answer_cell"
    ]
   },
   "outputs": [
    {
     "data": {
      "text/plain": [
       "(array([167948.,  74985.,  46325.,  32775.,  30391.,  26162.,  25805.,\n",
       "         27845.,  21516.,    587.]),\n",
       " array([-1.79998779,  1.88496089,  5.56990957,  9.25485802, 12.93980694,\n",
       "        16.62475586, 20.30970383, 23.9946537 , 27.67960167, 31.36455154,\n",
       "        35.04949951]),\n",
       " <BarContainer object of 10 artists>)"
      ]
     },
     "execution_count": 5,
     "metadata": {},
     "output_type": "execute_result"
    },
    {
     "data": {
      "image/png": "[encoded data removed]",
      "text/plain": [
       "<Figure size 640x480 with 1 Axes>"
      ]
     },
     "metadata": {},
     "output_type": "display_data"
    }
   ],
   "source": [
    "temperature.plot()"
   ]
  },
  {
   "cell_type": "markdown",
   "id": "a5652dd7-6176-4d90-b081-969ce7aec4f8",
   "metadata": {
    "editable": true,
    "slideshow": {
     "slide_type": ""
    },
    "tags": []
   },
   "source": [
    "Q3. Next, try the same with a 2-dimensional view of your dataset. Try selecting sea surface temperature values and plotting those."
   ]
  },
  {
   "cell_type": "code",
   "execution_count": 3,
   "id": "81abc16a-8a76-4a79-8be7-4d567d582b2c",
   "metadata": {
    "editable": true,
    "execution": {
     "iopub.execute_input": "2024-11-08T14:54:17.292801Z",
     "iopub.status.busy": "2024-11-08T14:54:17.292520Z",
     "iopub.status.idle": "2024-11-08T14:54:17.297118Z",
     "shell.execute_reply": "2024-11-08T14:54:17.296578Z"
    },
    "slideshow": {
     "slide_type": ""
    },
    "tags": [
     "clear_answer_cell"
    ]
   },
   "outputs": [],
   "source": []
  },
  {
   "cell_type": "markdown",
   "id": "9a047319-7af4-4b42-8231-d88ddcda20ef",
   "metadata": {
    "editable": true,
    "slideshow": {
     "slide_type": ""
    },
    "tags": []
   },
   "source": [
    "Q4. Finally, create a depth profile from `temperature` by using `sel` to select data for the same latitude and longitude values (31,0)."
   ]
  },
  {
   "cell_type": "markdown",
   "id": "02ff3450-f7d4-4753-ad8e-3fc6e286655e",
   "metadata": {
    "editable": true,
    "slideshow": {
     "slide_type": ""
    },
    "tags": []
   },
   "source": [
    "Hint: The latitude value is `-50.625` and the longitude value is `0`. All 3 of these methods will return the same dataset."
   ]
  },
  {
   "cell_type": "code",
   "execution_count": 5,
   "id": "98a422d3-7137-437d-b698-98e3cd85c321",
   "metadata": {
    "editable": true,
    "execution": {
     "iopub.execute_input": "2024-11-08T14:54:17.687203Z",
     "iopub.status.busy": "2024-11-08T14:54:17.686804Z",
     "iopub.status.idle": "2024-11-08T14:54:18.151213Z",
     "shell.execute_reply": "2024-11-08T14:54:18.150649Z"
    },
    "slideshow": {
     "slide_type": ""
    },
    "tags": [
     "clear_answer_cell"
    ]
   },
   "outputs": [],
   "source": []
  },
  {
   "cell_type": "markdown",
   "id": "bbb5c8e1-74fc-4ec0-b4e1-f8b6e52e8388",
   "metadata": {
    "editable": true,
    "slideshow": {
     "slide_type": ""
    },
    "tags": []
   },
   "source": [
    "Q5. Create a plot from this time series."
   ]
  },
  {
   "cell_type": "code",
   "execution_count": 6,
   "id": "e29cc9ca-07ca-46d9-ac5c-50a2c84bfe0f",
   "metadata": {
    "editable": true,
    "execution": {
     "iopub.execute_input": "2024-11-08T14:54:18.153969Z",
     "iopub.status.busy": "2024-11-08T14:54:18.153697Z",
     "iopub.status.idle": "2024-11-08T14:54:18.492668Z",
     "shell.execute_reply": "2024-11-08T14:54:18.492087Z"
    },
    "slideshow": {
     "slide_type": ""
    },
    "tags": [
     "clear_answer_cell"
    ]
   },
   "outputs": [],
   "source": []
  },
  {
   "cell_type": "markdown",
   "id": "4f2d3902-45c9-4eb1-b4b0-9d39baa421ac",
   "metadata": {
    "editable": true,
    "slideshow": {
     "slide_type": ""
    },
    "tags": []
   },
   "source": [
    "Q6. Make the plot red with 'x' marking the points."
   ]
  },
  {
   "cell_type": "code",
   "execution_count": 7,
   "id": "fdfb363f-e819-47a1-a571-5a74f6711196",
   "metadata": {
    "editable": true,
    "execution": {
     "iopub.execute_input": "2024-11-08T14:54:18.495009Z",
     "iopub.status.busy": "2024-11-08T14:54:18.494744Z",
     "iopub.status.idle": "2024-11-08T14:54:18.692994Z",
     "shell.execute_reply": "2024-11-08T14:54:18.692024Z"
    },
    "slideshow": {
     "slide_type": ""
    },
    "tags": [
     "clear_answer_cell"
    ]
   },
   "outputs": [],
   "source": []
  },
  {
   "cell_type": "markdown",
   "id": "7a947799-3b5a-4b8b-bf4e-0c58986b58ed",
   "metadata": {
    "editable": true,
    "slideshow": {
     "slide_type": ""
    },
    "tags": []
   },
   "source": [
    "Q7. Create a time series plot comparing the temperature profile at three different grid cells:\n",
    " - lat = 0, lon = 0\n",
    " - lat = 10, lon = 10\n",
    " - lat = 20, lon = 20\n",
    "\n",
    "Make sure each time series has a different colour and include a legend. As an extension, give them different linestyles too.\n",
    "Hint: use `.isel` to index the lat and lon."
   ]
  },
  {
   "cell_type": "code",
   "execution_count": 8,
   "id": "682cfc89-a2cd-454e-a124-d6df5f399208",
   "metadata": {
    "editable": true,
    "execution": {
     "iopub.execute_input": "2024-11-08T14:54:18.695662Z",
     "iopub.status.busy": "2024-11-08T14:54:18.695361Z",
     "iopub.status.idle": "2024-11-08T14:54:18.907691Z",
     "shell.execute_reply": "2024-11-08T14:54:18.907187Z"
    },
    "slideshow": {
     "slide_type": ""
    },
    "tags": [
     "clear_answer_cell"
    ]
   },
   "outputs": [],
   "source": []
  },
  {
   "cell_type": "markdown",
   "id": "4cbb0586-67e2-4a6f-bbdf-552e51f46085",
   "metadata": {
    "editable": true,
    "slideshow": {
     "slide_type": ""
    },
    "tags": []
   },
   "source": [
    "Q8. Let's plot some data in 2D. Use `sel` to select data for 200 meters below the surface."
   ]
  },
  {
   "cell_type": "code",
   "execution_count": 9,
   "id": "7c5f72d0-ebe2-4f19-887d-65b3b837002a",
   "metadata": {
    "editable": true,
    "execution": {
     "iopub.execute_input": "2024-11-08T14:54:18.910028Z",
     "iopub.status.busy": "2024-11-08T14:54:18.909756Z",
     "iopub.status.idle": "2024-11-08T14:54:19.277468Z",
     "shell.execute_reply": "2024-11-08T14:54:19.276783Z"
    },
    "slideshow": {
     "slide_type": ""
    },
    "tags": []
   },
   "outputs": [
    {
     "data": {
      "text/plain": [
       "<matplotlib.collections.QuadMesh at 0x7f6f4812d750>"
      ]
     },
     "execution_count": 9,
     "metadata": {},
     "output_type": "execute_result"
    },
    {
     "data": {
      "image/png": "[encoded data removed]",
      "text/plain": [
       "<Figure size 640x480 with 2 Axes>"
      ]
     },
     "metadata": {},
     "output_type": "display_data"
    }
   ],
   "source": [
    "specific_time = temperature.sel(depth='200', method='nearest')\n",
    "specific_time.plot()"
   ]
  }
 ],
 "metadata": {
  "kernelspec": {
   "display_name": "Python 3 + Jaspy",
   "language": "python",
   "name": "jaspy"
  },
  "language_info": {
   "codemirror_mode": {
    "name": "ipython",
    "version": 3
   },
   "file_extension": ".py",
   "mimetype": "text/x-python",
   "name": "python",
   "nbconvert_exporter": "python",
   "pygments_lexer": "ipython3",
   "version": "3.11.9"
  }
 },
 "nbformat": 4,
 "nbformat_minor": 5
}
