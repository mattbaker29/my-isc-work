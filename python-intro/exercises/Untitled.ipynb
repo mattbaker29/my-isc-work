{
 "cells": [
  {
   "cell_type": "code",
   "execution_count": 7,
   "id": "f1bc798d-4727-4c7b-b465-1b7994749e3f",
   "metadata": {},
   "outputs": [
    {
     "name": "stdout",
     "output_type": "stream",
     "text": [
      "T\n"
     ]
    }
   ],
   "source": [
    "import random as r\n",
    "bases = 'ACTTGCTTGAC'\n",
    "random_index = r.randrange(len(bases))\n",
    "print(bases[random_index])"
   ]
  },
  {
   "cell_type": "code",
   "execution_count": null,
   "id": "cbc5348b-c581-4cde-a710-8eba960e740e",
   "metadata": {},
   "outputs": [],
   "source": []
  }
 ],
 "metadata": {
  "kernelspec": {
   "display_name": "Python 3 + Jaspy",
   "language": "python",
   "name": "jaspy"
  },
  "language_info": {
   "codemirror_mode": {
    "name": "ipython",
    "version": 3
   },
   "file_extension": ".py",
   "mimetype": "text/x-python",
   "name": "python",
   "nbconvert_exporter": "python",
   "pygments_lexer": "ipython3",
   "version": "3.11.9"
  }
 },
 "nbformat": 4,
 "nbformat_minor": 5
}
